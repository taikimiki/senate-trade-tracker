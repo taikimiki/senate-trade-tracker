{
 "cells": [
  {
   "cell_type": "markdown",
   "metadata": {},
   "source": [
    "#This script uses data from Senate Stock Watcher by Tim Carambat; if you find the data in my analysis useful, consider buying coffee for Tim here: https://ko-fi.com/rambat"
   ]
  },
  {
   "cell_type": "code",
   "execution_count": 22,
   "metadata": {},
   "outputs": [
    {
     "data": {
      "text/html": [
       "<div>\n",
       "<style scoped>\n",
       "    .dataframe tbody tr th:only-of-type {\n",
       "        vertical-align: middle;\n",
       "    }\n",
       "\n",
       "    .dataframe tbody tr th {\n",
       "        vertical-align: top;\n",
       "    }\n",
       "\n",
       "    .dataframe thead th {\n",
       "        text-align: right;\n",
       "    }\n",
       "</style>\n",
       "<table border=\"1\" class=\"dataframe\">\n",
       "  <thead>\n",
       "    <tr style=\"text-align: right;\">\n",
       "      <th></th>\n",
       "      <th>transaction_date</th>\n",
       "      <th>owner</th>\n",
       "      <th>ticker</th>\n",
       "      <th>asset_description</th>\n",
       "      <th>asset_type</th>\n",
       "      <th>type</th>\n",
       "      <th>amount</th>\n",
       "      <th>comment</th>\n",
       "      <th>senator</th>\n",
       "      <th>ptr_link</th>\n",
       "    </tr>\n",
       "  </thead>\n",
       "  <tbody>\n",
       "    <tr>\n",
       "      <th>0</th>\n",
       "      <td>03/17/2020</td>\n",
       "      <td>Spouse</td>\n",
       "      <td>DXCM</td>\n",
       "      <td>DexCom, Inc.</td>\n",
       "      <td>Stock</td>\n",
       "      <td>Sale (Partial)</td>\n",
       "      <td>$250,001 - $500,000</td>\n",
       "      <td>--</td>\n",
       "      <td>Tina Smith</td>\n",
       "      <td>https://efdsearch.senate.gov/search/view/ptr/8...</td>\n",
       "    </tr>\n",
       "    <tr>\n",
       "      <th>1</th>\n",
       "      <td>03/17/2020</td>\n",
       "      <td>Spouse</td>\n",
       "      <td>PODD</td>\n",
       "      <td>Insulet Corporation</td>\n",
       "      <td>Stock</td>\n",
       "      <td>Sale (Partial)</td>\n",
       "      <td>$250,001 - $500,000</td>\n",
       "      <td>--</td>\n",
       "      <td>Tina Smith</td>\n",
       "      <td>https://efdsearch.senate.gov/search/view/ptr/8...</td>\n",
       "    </tr>\n",
       "    <tr>\n",
       "      <th>2</th>\n",
       "      <td>03/04/2020</td>\n",
       "      <td>Joint</td>\n",
       "      <td>--</td>\n",
       "      <td>INGERSOLL RAND PLC SHARES (Exchanged) &lt;br&gt; TRA...</td>\n",
       "      <td>Stock</td>\n",
       "      <td>Exchange</td>\n",
       "      <td>$1,001 - $15,000</td>\n",
       "      <td>--</td>\n",
       "      <td>Sheldon Whitehouse</td>\n",
       "      <td>https://efdsearch.senate.gov/search/view/ptr/4...</td>\n",
       "    </tr>\n",
       "    <tr>\n",
       "      <th>3</th>\n",
       "      <td>03/04/2020</td>\n",
       "      <td>Self</td>\n",
       "      <td>--</td>\n",
       "      <td>INGERSOLL RAND PLC SHS (Exchanged) &lt;br&gt; TRANE ...</td>\n",
       "      <td>Stock</td>\n",
       "      <td>Exchange</td>\n",
       "      <td>$1,001 - $15,000</td>\n",
       "      <td>--</td>\n",
       "      <td>Sheldon Whitehouse</td>\n",
       "      <td>https://efdsearch.senate.gov/search/view/ptr/4...</td>\n",
       "    </tr>\n",
       "    <tr>\n",
       "      <th>4</th>\n",
       "      <td>03/11/2020</td>\n",
       "      <td>Self</td>\n",
       "      <td>ILMN</td>\n",
       "      <td>Illumina, Inc.</td>\n",
       "      <td>Stock</td>\n",
       "      <td>Sale (Full)</td>\n",
       "      <td>$1,001 - $15,000</td>\n",
       "      <td>--</td>\n",
       "      <td>Sheldon Whitehouse</td>\n",
       "      <td>https://efdsearch.senate.gov/search/view/ptr/4...</td>\n",
       "    </tr>\n",
       "  </tbody>\n",
       "</table>\n",
       "</div>"
      ],
      "text/plain": [
       "  transaction_date   owner ticker  \\\n",
       "0       03/17/2020  Spouse   DXCM   \n",
       "1       03/17/2020  Spouse   PODD   \n",
       "2       03/04/2020   Joint     --   \n",
       "3       03/04/2020    Self     --   \n",
       "4       03/11/2020    Self   ILMN   \n",
       "\n",
       "                                   asset_description asset_type  \\\n",
       "0                                       DexCom, Inc.      Stock   \n",
       "1                                Insulet Corporation      Stock   \n",
       "2  INGERSOLL RAND PLC SHARES (Exchanged) <br> TRA...      Stock   \n",
       "3  INGERSOLL RAND PLC SHS (Exchanged) <br> TRANE ...      Stock   \n",
       "4                                     Illumina, Inc.      Stock   \n",
       "\n",
       "             type               amount comment             senator  \\\n",
       "0  Sale (Partial)  $250,001 - $500,000      --          Tina Smith   \n",
       "1  Sale (Partial)  $250,001 - $500,000      --          Tina Smith   \n",
       "2        Exchange     $1,001 - $15,000      --  Sheldon Whitehouse   \n",
       "3        Exchange     $1,001 - $15,000      --  Sheldon Whitehouse   \n",
       "4     Sale (Full)     $1,001 - $15,000      --  Sheldon Whitehouse   \n",
       "\n",
       "                                            ptr_link  \n",
       "0  https://efdsearch.senate.gov/search/view/ptr/8...  \n",
       "1  https://efdsearch.senate.gov/search/view/ptr/8...  \n",
       "2  https://efdsearch.senate.gov/search/view/ptr/4...  \n",
       "3  https://efdsearch.senate.gov/search/view/ptr/4...  \n",
       "4  https://efdsearch.senate.gov/search/view/ptr/4...  "
      ]
     },
     "metadata": {},
     "output_type": "display_data"
    },
    {
     "name": "stdout",
     "output_type": "stream",
     "text": [
      "<class 'pandas.core.frame.DataFrame'>\n",
      "RangeIndex: 8602 entries, 0 to 8601\n",
      "Data columns (total 10 columns):\n",
      " #   Column             Non-Null Count  Dtype \n",
      "---  ------             --------------  ----- \n",
      " 0   transaction_date   8602 non-null   object\n",
      " 1   owner              8602 non-null   object\n",
      " 2   ticker             8602 non-null   object\n",
      " 3   asset_description  8602 non-null   object\n",
      " 4   asset_type         8602 non-null   object\n",
      " 5   type               8602 non-null   object\n",
      " 6   amount             8602 non-null   object\n",
      " 7   comment            8602 non-null   object\n",
      " 8   senator            8602 non-null   object\n",
      " 9   ptr_link           8602 non-null   object\n",
      "dtypes: object(10)\n",
      "memory usage: 672.2+ KB\n",
      "None\n"
     ]
    }
   ],
   "source": [
    "import urllib.request\n",
    "import json\n",
    "import pandas as pd\n",
    "\n",
    "#Fetches JSON file\n",
    "with urllib.request.urlopen(\"https://senate-stock-watcher-data.s3.amazonaws.com/aggregate/all_transactions.json\") as url:\n",
    "    url_data = json.loads(url.read())\n",
    "\n",
    "#Reads data into a Pandas DataFrame\n",
    "data = pd.DataFrame(url_data)\n",
    "\n",
    "display (data.head())\n",
    "\n",
    "print (data.info())"
   ]
  },
  {
   "cell_type": "code",
   "execution_count": 23,
   "metadata": {},
   "outputs": [
    {
     "name": "stdout",
     "output_type": "stream",
     "text": [
      "<class 'pandas.core.frame.DataFrame'>\n",
      "RangeIndex: 8602 entries, 0 to 8601\n",
      "Data columns (total 10 columns):\n",
      " #   Column             Non-Null Count  Dtype         \n",
      "---  ------             --------------  -----         \n",
      " 0   transaction_date   8602 non-null   datetime64[ns]\n",
      " 1   owner              8602 non-null   object        \n",
      " 2   ticker             8602 non-null   object        \n",
      " 3   asset_description  8602 non-null   object        \n",
      " 4   asset_type         8602 non-null   object        \n",
      " 5   type               8602 non-null   object        \n",
      " 6   amount             8602 non-null   object        \n",
      " 7   comment            8602 non-null   object        \n",
      " 8   senator            8602 non-null   object        \n",
      " 9   ptr_link           8602 non-null   object        \n",
      "dtypes: datetime64[ns](1), object(9)\n",
      "memory usage: 672.2+ KB\n",
      "None\n"
     ]
    }
   ],
   "source": [
    "#Converts first column to datetime\n",
    "data['transaction_date'] = pd.to_datetime(data['transaction_date'])\n",
    "\n",
    "print (data.info())"
   ]
  },
  {
   "cell_type": "code",
   "execution_count": 25,
   "metadata": {},
   "outputs": [],
   "source": [
    "#Creates a list of unique tickers\n",
    "tickers = data['ticker'].unique()"
   ]
  },
  {
   "cell_type": "code",
   "execution_count": 30,
   "metadata": {},
   "outputs": [
    {
     "ename": "KeyError",
     "evalue": "'nflx'",
     "output_type": "error",
     "traceback": [
      "\u001b[1;31m---------------------------------------------------------------------------\u001b[0m",
      "\u001b[1;31mKeyError\u001b[0m                                  Traceback (most recent call last)",
      "\u001b[1;32m<ipython-input-30-d65ae7fe827b>\u001b[0m in \u001b[0;36m<module>\u001b[1;34m\u001b[0m\n\u001b[0;32m     14\u001b[0m         \u001b[1;32mpass\u001b[0m\u001b[1;33m\u001b[0m\u001b[1;33m\u001b[0m\u001b[0m\n\u001b[0;32m     15\u001b[0m \u001b[1;33m\u001b[0m\u001b[0m\n\u001b[1;32m---> 16\u001b[1;33m \u001b[0mprint\u001b[0m \u001b[1;33m(\u001b[0m\u001b[0mticker_data\u001b[0m\u001b[1;33m[\u001b[0m\u001b[1;34m'nflx'\u001b[0m\u001b[1;33m]\u001b[0m\u001b[1;33m)\u001b[0m\u001b[1;33m\u001b[0m\u001b[1;33m\u001b[0m\u001b[0m\n\u001b[0m",
      "\u001b[1;31mKeyError\u001b[0m: 'nflx'"
     ]
    }
   ],
   "source": [
    "from pandas_datareader import data as web\n",
    "from dotenv import load_dotenv\n",
    "import datetime\n",
    "import os\n",
    "\n",
    "load_dotenv()\n",
    "\n",
    "ticker_data = {}\n",
    "\n",
    "#Reads historical stock data from Alpha Vantage\n",
    "for ticker in tickers:\n",
    "    try: \n",
    "        f = web.DataReader(ticker, \"av-daily-adjusted\", start=datetime.datetime(2011, 1, 1), end=datetime.datetime.now()api_key=os.environ.get('av_key'))\n",
    "        ticker_data[ticker] = f\n",
    "    except:\n",
    "        pass"
   ]
  },
  {
   "cell_type": "code",
   "execution_count": 34,
   "metadata": {},
   "outputs": [],
   "source": [
    "import csv\n",
    "import pickle\n",
    "\n",
    "# Writes the historical ticker dictionary to a CSV file\n",
    "w = csv.writer(open(\"ticker_data.csv\", \"w\"))\n",
    "for key, val in ticker_data.items():\n",
    "    w.writerow([key, val])\n",
    "\n",
    "# Pickling the historical ticker dictionary\n",
    "f = open(\"ticker_data.pkl\",\"wb\")\n",
    "pickle.dump(ticker_data,f)\n",
    "f.close()"
   ]
  },
  {
   "cell_type": "code",
   "execution_count": null,
   "metadata": {},
   "outputs": [],
   "source": []
  }
 ],
 "metadata": {
  "kernelspec": {
   "display_name": "Python 3",
   "language": "python",
   "name": "python3"
  },
  "language_info": {
   "codemirror_mode": {
    "name": "ipython",
    "version": 3
   },
   "file_extension": ".py",
   "mimetype": "text/x-python",
   "name": "python",
   "nbconvert_exporter": "python",
   "pygments_lexer": "ipython3",
   "version": "3.7.6"
  }
 },
 "nbformat": 4,
 "nbformat_minor": 4
}
